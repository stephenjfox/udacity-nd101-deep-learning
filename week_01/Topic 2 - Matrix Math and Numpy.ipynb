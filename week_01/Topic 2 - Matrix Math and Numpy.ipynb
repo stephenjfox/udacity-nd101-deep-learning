{
 "cells": [
  {
   "cell_type": "markdown",
   "metadata": {},
   "source": [
    "It would seem that all the fly-by content will have its source materials expounded upon...\n",
    "\n",
    "This is a very good thing.\n",
    "\n",
    "---"
   ]
  },
  {
   "cell_type": "markdown",
   "metadata": {},
   "source": [
    "2016년 4월 16일\n",
    "\n",
    "**오후 4시 26분**\n",
    "\n",
    "Here's what I know (and believe) about NumPy:\n",
    "- It's a general purpose mathematics library\n",
    "- There are a plethora of functions and utilities around matrix calculations\n",
    "  - because everything can be respresented as a matrix/tensor\n",
    "  - This is actually **really** good for advancing my Mathematic skills\n",
    "    - Lots of higher maths are done with Matrices\n",
    "- There are immutable data structures\n",
    "  - Helps with speed\n",
    "- Big in the Data Analysis/Data Science/Big Data communities, because it makes doing the big math really simple.\n",
    "  - Sometimes, one library is just the fastest way to do something\n",
    "  - Less of a chore to do the math we all (fundamentally) understand\n",
    "\n",
    "... And that's about it."
   ]
  },
  {
   "cell_type": "markdown",
   "metadata": {},
   "source": [
    "---\n",
    "Took about 10 minutes to investigate the purchase of a Galaxy S8\n",
    "\n",
    "---\n",
    "**오후 4시 50분**"
   ]
  },
  {
   "cell_type": "markdown",
   "metadata": {},
   "source": [
    "# Data has Dimensions\n",
    "> Before we can start designing Neural Networks ourselves, we first need to understand how we represent that data\n",
    "More specifically, we need to think about the shapes that data can have\n",
    "\n",
    "Consider a person..."
   ]
  },
  {
   "cell_type": "markdown",
   "metadata": {},
   "source": [
    "- We could represent that person's height in centimeters as a *single* number.\n",
    "- Or we could have a list of numbers, representing the various features of that person\n",
    "  - Height, weight and age\n",
    "- Maybe we have an image of the person\n",
    "  - A grid of rows and columns\n",
    "  - Possibly represent those grid cells as a RGB (vector) of the color shown.\n",
    "\n",
    "Look at the depth of that data! All of which are described in dimensions.\n",
    "\n",
    "Once again, going through the dimensions:"
   ]
  },
  {
   "cell_type": "markdown",
   "metadata": {},
   "source": [
    "### Scalars\n",
    "Zero-dimensional shape.\n",
    "- A person's height is a *really* good example of this\n",
    "\n",
    "> It's kind of impossible to picture zero dimensions, but that's how it is most accurately defined."
   ]
  },
  {
   "cell_type": "markdown",
   "metadata": {},
   "source": [
    "### Vectors\n",
    "Lists of values.\n",
    "\n",
    "They come in two types: Row (horizontal) and Column (verticle)\n",
    "- Note that they can store the same data, it's just the math at your disposal that changes\n",
    "\n",
    "They have **one dimension**: length.\n",
    "\n",
    "> We could store a person's height, weight, and age all as a vector"
   ]
  },
  {
   "cell_type": "markdown",
   "metadata": {},
   "source": [
    "### Matrices\n",
    "Two-Dimensional grid of values\n",
    "\n",
    "\\begin{vmatrix}\n",
    "1 & 2 & 3 \\\\\n",
    "4 & 5 & 6\n",
    "\\end{vmatrix}\n",
    "\n",
    "> We see that this has two **rows** and three **columns**, so we'll call this a \"two-by-three\" matrix\n",
    "- Notated: `2 x 3`\n",
    "\n",
    "If you had a single number for each pixel of an image (\"Bitmap \\*cough cough\\*), you could store those as a matrix :)"
   ]
  },
  {
   "cell_type": "markdown",
   "metadata": {},
   "source": [
    "### Tensors\n",
    "N-Dimensional collection of values\n",
    "- Garrett found a brilliant way to visualize data in 13 dimensions\n",
    "\n",
    "The aforementioned Scalar, Vector, and Matrix groups are \\_-dimension of tensor\n",
    "- Scalar is a 0-D Tensor\n",
    "- Vector is a 1-D Tensor\n",
    "- Matrix is a 2-D Tensor\n",
    "\n",
    "Higher dimensional data is tough to visualize. For example:\n",
    "- For three dimensions, one might picture\n",
    "  - A stack of matrices (i.e. stack of punch cards for a program)\n",
    "  - A list of matrices (i.e. lens of a pair of glasses. Or [techie] a sequence of filters)\n",
    "  - A matrix of vectors (i.e. an array-of-arrays.)\n",
    "    - Easiest to get into code in most C-family languages\n",
    "\n",
    "Sounds like fun, doesn't it? :D"
   ]
  },
  {
   "cell_type": "markdown",
   "metadata": {},
   "source": [
    "What about 4-D?\n",
    "- We could have a matrix of matrices, because `2 x 2 = 4` dimensions\n",
    "- Or it could be a list of lists or stack of stacks of matrices\n",
    "  - Again, the compounding here"
   ]
  },
  {
   "cell_type": "markdown",
   "metadata": {},
   "source": [
    "***The point is***:\n",
    "> Even if you have a hard time imagining how the data is arranged, you can probably still make the math work.\n",
    "\n",
    "---\n",
    "Back to an image, with RGB channels.\n",
    "- Would could store that data three-dimensionally\n",
    "  - A stack of matrices: one for each color channel"
   ]
  },
  {
   "cell_type": "markdown",
   "metadata": {},
   "source": [
    "For these lessons...\n",
    "- We'll mostly consider [Scalars](./Topic%202%20-%20Matrix%20Math%20and%20Numpy.ipynb#Scalars) and [Matrices](./Topic%202%20-%20Matrix%20Math%20and%20Numpy.ipynb#Matrices)\n",
    "  - Vectors will just be a Matrix, where one of their dimensions is `1`\n",
    "\n",
    "Values will be referenced by their two-dimensional indices $lowerCaseMatrixName_{<row><column>}$\n",
    "\n",
    "$$\n",
    "\\begin{vmatrix}\n",
    "1 & 2 & 3 \\\\\n",
    "4 & 5 & 6 \\\\\n",
    "7 & 8 & 9\n",
    "\\end{vmatrix}\n",
    "\\begin{vmatrix}\n",
    "a_{11} & a_{12} & a_{13} \\\\\n",
    "a_{21} & a_{22} & a_{23} \\\\\n",
    "a_{31} & a_{32} & a_{33}\n",
    "\\end{vmatrix}\n",
    "$$\n",
    "- Therefore, value `8` is index `32` in linear algebra"
   ]
  },
  {
   "cell_type": "markdown",
   "metadata": {},
   "source": [
    "# Working with Data in NumPy"
   ]
  },
  {
   "cell_type": "markdown",
   "metadata": {},
   "source": [
    "---\n",
    "The [NumPy Reference Documentation](https://docs.scipy.org/doc/numpy/reference/)\n",
    "- Was actually written in C, so that is can be more performant that Python\n",
    "  - This is a perfectly legitimate reason to lean on a library for something.\n",
    "  - I'm pleased to know that it's not due to laziness in implementation\n",
    "- Most work is indeed done through matrices, as [`ndarray`](https://docs.scipy.org/doc/numpy/reference/arrays.html) instances\n",
    "\n",
    "---"
   ]
  },
  {
   "cell_type": "markdown",
   "metadata": {},
   "source": [
    "## NumPy Data Types\n",
    "That we'll be using.\n",
    "It's the Big Four, as previously mentioned (in Siraj's video)"
   ]
  },
  {
   "cell_type": "markdown",
   "metadata": {},
   "source": [
    "### NumPy Scalars\n",
    "- Created with `numpy.array`, and you pass a number (Python int or float)\n",
    "- Can be of type `int` or `uint` 8-64"
   ]
  },
  {
   "cell_type": "code",
   "execution_count": 1,
   "metadata": {
    "collapsed": true
   },
   "outputs": [],
   "source": [
    "import numpy as np"
   ]
  },
  {
   "cell_type": "code",
   "execution_count": 2,
   "metadata": {
    "collapsed": true
   },
   "outputs": [],
   "source": [
    "scal = np.array(5)"
   ]
  },
  {
   "cell_type": "code",
   "execution_count": 3,
   "metadata": {
    "collapsed": false
   },
   "outputs": [
    {
     "name": "stdout",
     "output_type": "stream",
     "text": [
      "5\n"
     ]
    }
   ],
   "source": [
    "print(scal)"
   ]
  },
  {
   "cell_type": "markdown",
   "metadata": {},
   "source": [
    "- Exposes the relevant property `shape`"
   ]
  },
  {
   "cell_type": "code",
   "execution_count": 4,
   "metadata": {
    "collapsed": false
   },
   "outputs": [
    {
     "name": "stdout",
     "output_type": "stream",
     "text": [
      "()\n"
     ]
    }
   ],
   "source": [
    "print(scal.shape)"
   ]
  },
  {
   "cell_type": "markdown",
   "metadata": {},
   "source": [
    "- Returns an empty tuple, representing its **0-D nature**\n",
    "  - Coming full circle\n",
    "- Can still do basic operations (`+`, `*`, etc.) against other Python types."
   ]
  },
  {
   "cell_type": "code",
   "execution_count": 5,
   "metadata": {
    "collapsed": false
   },
   "outputs": [
    {
     "name": "stdout",
     "output_type": "stream",
     "text": [
      "15\n"
     ]
    }
   ],
   "source": [
    "print(scal + 10)"
   ]
  },
  {
   "cell_type": "markdown",
   "metadata": {},
   "source": [
    "### NumPy Vectors and Matrices\n",
    "- All that was true about Scalars maps to these as well"
   ]
  },
  {
   "cell_type": "code",
   "execution_count": 6,
   "metadata": {
    "collapsed": true
   },
   "outputs": [],
   "source": [
    "vect = np.array([1, 2, 3, 4])"
   ]
  },
  {
   "cell_type": "markdown",
   "metadata": {},
   "source": [
    "- Also support slices (i.e. `arr[1:]`)\n",
    "  - See [the documentation](https://docs.scipy.org/doc/numpy/reference/arrays.indexing.html) for more, but it's pretty straightforward"
   ]
  },
  {
   "cell_type": "code",
   "execution_count": 7,
   "metadata": {
    "collapsed": false
   },
   "outputs": [
    {
     "name": "stdout",
     "output_type": "stream",
     "text": [
      "[1 2 3 4]\n"
     ]
    }
   ],
   "source": [
    "print(vect)"
   ]
  },
  {
   "cell_type": "code",
   "execution_count": 8,
   "metadata": {
    "collapsed": false
   },
   "outputs": [
    {
     "name": "stdout",
     "output_type": "stream",
     "text": [
      "(4,)\n"
     ]
    }
   ],
   "source": [
    "print(vect.shape)"
   ]
  },
  {
   "cell_type": "code",
   "execution_count": 9,
   "metadata": {
    "collapsed": false
   },
   "outputs": [
    {
     "name": "stdout",
     "output_type": "stream",
     "text": [
      "[3 4]\n"
     ]
    }
   ],
   "source": [
    "print(vect[2:])"
   ]
  },
  {
   "cell_type": "markdown",
   "metadata": {},
   "source": [
    "#### NumPy Matrices\n",
    "- As stated, we'll do this programmatically as an array-of-arrays"
   ]
  },
  {
   "cell_type": "code",
   "execution_count": 10,
   "metadata": {
    "collapsed": false
   },
   "outputs": [
    {
     "name": "stdout",
     "output_type": "stream",
     "text": [
      "[[1 2 3]\n",
      " [4 5 6]\n",
      " [7 8 9]]\n"
     ]
    }
   ],
   "source": [
    "matrx = np.array([[1, 2, 3], [4, 5, 6], [7, 8, 9]])\n",
    "print(matrx)"
   ]
  },
  {
   "cell_type": "code",
   "execution_count": 11,
   "metadata": {
    "collapsed": false
   },
   "outputs": [
    {
     "data": {
      "text/plain": [
       "(3, 3)"
      ]
     },
     "execution_count": 11,
     "metadata": {},
     "output_type": "execute_result"
    }
   ],
   "source": [
    "matrx.shape"
   ]
  },
  {
   "cell_type": "code",
   "execution_count": 12,
   "metadata": {
    "collapsed": false
   },
   "outputs": [
    {
     "data": {
      "text/plain": [
       "array([[4, 5, 6],\n",
       "       [7, 8, 9]])"
      ]
     },
     "execution_count": 12,
     "metadata": {},
     "output_type": "execute_result"
    }
   ],
   "source": [
    "matrx[1:]"
   ]
  },
  {
   "cell_type": "code",
   "execution_count": 13,
   "metadata": {
    "collapsed": false
   },
   "outputs": [
    {
     "data": {
      "text/plain": [
       "array([4, 5, 6])"
      ]
     },
     "execution_count": 13,
     "metadata": {},
     "output_type": "execute_result"
    }
   ],
   "source": [
    "matrx[1:][0]"
   ]
  },
  {
   "cell_type": "code",
   "execution_count": 14,
   "metadata": {
    "collapsed": false
   },
   "outputs": [
    {
     "data": {
      "text/plain": [
       "9"
      ]
     },
     "execution_count": 14,
     "metadata": {},
     "output_type": "execute_result"
    }
   ],
   "source": [
    "# Give us an array of our last-row-array, and print the last element\n",
    "matrx[2:][0][-1]"
   ]
  },
  {
   "cell_type": "markdown",
   "metadata": {},
   "source": [
    "### That's really nice, but..."
   ]
  },
  {
   "cell_type": "code",
   "execution_count": 15,
   "metadata": {
    "collapsed": false
   },
   "outputs": [
    {
     "data": {
      "text/plain": [
       "array([1, 2, 3, 4])"
      ]
     },
     "execution_count": 15,
     "metadata": {},
     "output_type": "execute_result"
    }
   ],
   "source": [
    "# what if we need a different shape to the data?\n",
    "# Recall our vector\n",
    "vect"
   ]
  },
  {
   "cell_type": "code",
   "execution_count": 16,
   "metadata": {
    "collapsed": false
   },
   "outputs": [
    {
     "data": {
      "text/plain": [
       "array([[1],\n",
       "       [2],\n",
       "       [3],\n",
       "       [4]])"
      ]
     },
     "execution_count": 16,
     "metadata": {},
     "output_type": "execute_result"
    }
   ],
   "source": [
    "vect.reshape((4, 1))"
   ]
  },
  {
   "cell_type": "code",
   "execution_count": 17,
   "metadata": {
    "collapsed": false
   },
   "outputs": [
    {
     "data": {
      "text/plain": [
       "array([1, 2, 3, 4])"
      ]
     },
     "execution_count": 17,
     "metadata": {},
     "output_type": "execute_result"
    }
   ],
   "source": [
    "vect"
   ]
  },
  {
   "cell_type": "code",
   "execution_count": 18,
   "metadata": {
    "collapsed": false
   },
   "outputs": [
    {
     "data": {
      "text/plain": [
       "array([[1, 2, 3, 4]])"
      ]
     },
     "execution_count": 18,
     "metadata": {},
     "output_type": "execute_result"
    }
   ],
   "source": [
    "vect.reshape((1,4))"
   ]
  },
  {
   "cell_type": "markdown",
   "metadata": {},
   "source": [
    "So we can give our data extra dimensionality if needed\n",
    "> But we can go deeper, and follow the experts in the community"
   ]
  },
  {
   "cell_type": "code",
   "execution_count": 19,
   "metadata": {
    "collapsed": false
   },
   "outputs": [
    {
     "data": {
      "text/plain": [
       "array([[1, 2, 3, 4]])"
      ]
     },
     "execution_count": 19,
     "metadata": {},
     "output_type": "execute_result"
    }
   ],
   "source": [
    "vect[None, :] # NumPy, can you give me a new dimension of size '1' for Y-axis?"
   ]
  },
  {
   "cell_type": "code",
   "execution_count": 20,
   "metadata": {
    "collapsed": false
   },
   "outputs": [
    {
     "data": {
      "text/plain": [
       "array([[1],\n",
       "       [2],\n",
       "       [3],\n",
       "       [4]])"
      ]
     },
     "execution_count": 20,
     "metadata": {},
     "output_type": "execute_result"
    }
   ],
   "source": [
    "vect[:, None] # How about that X-axis, while we're at it?"
   ]
  },
  {
   "cell_type": "markdown",
   "metadata": {},
   "source": [
    "**This reshaping logic** is a lot less literal, and will work on more general data\n",
    "- May not be the thing we want every time, but it's very popular to use this technique"
   ]
  },
  {
   "cell_type": "markdown",
   "metadata": {},
   "source": [
    "---\n",
    "I'm suspecting that I won't write a lot for the upcoming sections, so I'm just going to grab loose thoughts and organize them afterwards (ergo \"oh this was all stuff about matrix multiplication...\")"
   ]
  },
  {
   "cell_type": "markdown",
   "metadata": {},
   "source": [
    "- Scalar (+,-,\\*,/) matrix performs the operation against every element of the scalar to produce a result"
   ]
  },
  {
   "cell_type": "code",
   "execution_count": 21,
   "metadata": {
    "collapsed": false
   },
   "outputs": [
    {
     "data": {
      "text/plain": [
       "array([2, 4, 6, 8])"
      ]
     },
     "execution_count": 21,
     "metadata": {},
     "output_type": "execute_result"
    }
   ],
   "source": [
    "2 * vect"
   ]
  },
  {
   "cell_type": "markdown",
   "metadata": {},
   "source": [
    "- Thinking back to an RGB tensor, we could **normalize** our channels by dividing the matrix by 255\n",
    "  - 256 points including 0, but we try not to divide by zero ;)\n",
    "- What if we made every element of our matrix a fraction, instead?"
   ]
  },
  {
   "cell_type": "code",
   "execution_count": 22,
   "metadata": {
    "collapsed": true
   },
   "outputs": [],
   "source": [
    "from fractions import Fraction"
   ]
  },
  {
   "cell_type": "code",
   "execution_count": 23,
   "metadata": {
    "collapsed": false
   },
   "outputs": [
    {
     "data": {
      "text/plain": [
       "[Fraction(1, 8), Fraction(1, 4), Fraction(3, 8), Fraction(1, 2)]"
      ]
     },
     "execution_count": 23,
     "metadata": {},
     "output_type": "execute_result"
    }
   ],
   "source": [
    "list(map(lambda x: Fraction(x, 8), vect)) # deal with all the data in terms of 8ths"
   ]
  },
  {
   "cell_type": "markdown",
   "metadata": {},
   "source": [
    "- Matrix element-wise math (i.e. addition and subtraction) requires matching dimensions"
   ]
  },
  {
   "cell_type": "code",
   "execution_count": 24,
   "metadata": {
    "collapsed": false
   },
   "outputs": [
    {
     "data": {
      "text/plain": [
       "array([ 7,  9, 11, 13])"
      ]
     },
     "execution_count": 24,
     "metadata": {},
     "output_type": "execute_result"
    }
   ],
   "source": [
    "other_vect = np.array([6, 7, 8, 9])\n",
    "vect + other_vect"
   ]
  },
  {
   "cell_type": "code",
   "execution_count": 25,
   "metadata": {
    "collapsed": false
   },
   "outputs": [
    {
     "data": {
      "text/plain": [
       "array([5, 5, 5, 5])"
      ]
     },
     "execution_count": 25,
     "metadata": {},
     "output_type": "execute_result"
    }
   ],
   "source": [
    "other_vect - vect"
   ]
  },
  {
   "cell_type": "markdown",
   "metadata": {},
   "source": [
    "---\n",
    "오후7시부터 8시35분까지 쉬었다.\n",
    "***"
   ]
  },
  {
   "cell_type": "markdown",
   "metadata": {
    "collapsed": true
   },
   "source": [
    "# Matrix Multiplication\n",
    "***A.k.a. the [\"dot product\"](https://en.wikipedia.org/wiki/Dot_product)***\n",
    "- Which is a process for converting two vectors (of equal length) into a single scalar"
   ]
  },
  {
   "cell_type": "markdown",
   "metadata": {},
   "source": [
    "So how does this help us???\n",
    "\n",
    "#### Dot Product: Row by Column\n",
    "\n",
    "When we find the dot-product of two matrices, we're just finding the dot-product of **rows of the first matrix** against the **columns of the second matrix**\n",
    "- Given matrix A, (2 x 4), and matrix B (4 x 3), the resultant matrix will be of (2 x 3)\n",
    "  - The \"inner\" (2 x __4__) * (__4__ x 3) dimensions must match\n",
    "  - And the result is of the \"outer\" (__2__ x 4) * (4 x __3__) or (2 x 3)\n",
    "\n",
    "__THIS IS IMPORTANT__ and will be elaborated upon in a later lesson.\n",
    "- Instructor does a walk through of matrix dot-product\n",
    "  - Dot products are a fair bit of computation, given the size of the result.\n",
    "- Take our (2 x 4) and (4 x 3), resulting in a (2 x 3) example:\n",
    "  - 6 (again, 2\\*3) numbers are the result of\n",
    "    - 24 Multiplication operations, and\n",
    "    - 18 Addition operations"
   ]
  },
  {
   "cell_type": "markdown",
   "metadata": {},
   "source": [
    "---\n",
    "Video two is just covering the things I already know about Linear Algebra.\n",
    "\n",
    "The __only point__ I left out (explicitly): order matters. Pretty easy progress, for low cost (just double checking the video at 1.25x speed ;)\n",
    "\n",
    "---"
   ]
  },
  {
   "cell_type": "markdown",
   "metadata": {},
   "source": [
    "## NumPy Matrix Multiplication\n",
    "Two functions to know\n",
    "1. [`np.dot`](https://docs.scipy.org/doc/numpy/reference/generated/numpy.dot.html)\n",
    "  - Don't forget its cousin [np.tensordot](https://docs.scipy.org/doc/numpy/reference/generated/numpy.tensordot.html#numpy.tensordot)\n",
    "2. [`np.matmul`](https://docs.scipy.org/doc/numpy/reference/generated/numpy.matmul.html#numpy.matmul)\n",
    "  - Short for __mat__rix __mul__tiplication"
   ]
  },
  {
   "cell_type": "markdown",
   "metadata": {},
   "source": [
    "---\n",
    "Small detour to understand some of the code from the documentation"
   ]
  },
  {
   "cell_type": "code",
   "execution_count": 30,
   "metadata": {
    "collapsed": false
   },
   "outputs": [
    {
     "data": {
      "text/plain": [
       "array([80])"
      ]
     },
     "execution_count": 30,
     "metadata": {},
     "output_type": "execute_result"
    }
   ],
   "source": [
    "vect.dot(other_vect[:, None])"
   ]
  },
  {
   "cell_type": "code",
   "execution_count": 35,
   "metadata": {
    "collapsed": false
   },
   "outputs": [],
   "source": [
    "some_matrix = np.arange(3*2*5).reshape((3,5,2))"
   ]
  },
  {
   "cell_type": "code",
   "execution_count": 36,
   "metadata": {
    "collapsed": false
   },
   "outputs": [
    {
     "data": {
      "text/plain": [
       "(3, 5, 2)"
      ]
     },
     "execution_count": 36,
     "metadata": {},
     "output_type": "execute_result"
    }
   ],
   "source": [
    "some_matrix.shape"
   ]
  },
  {
   "cell_type": "code",
   "execution_count": 37,
   "metadata": {
    "collapsed": false
   },
   "outputs": [
    {
     "data": {
      "text/plain": [
       "array([[[ 0,  1],\n",
       "        [ 2,  3],\n",
       "        [ 4,  5],\n",
       "        [ 6,  7],\n",
       "        [ 8,  9]],\n",
       "\n",
       "       [[10, 11],\n",
       "        [12, 13],\n",
       "        [14, 15],\n",
       "        [16, 17],\n",
       "        [18, 19]],\n",
       "\n",
       "       [[20, 21],\n",
       "        [22, 23],\n",
       "        [24, 25],\n",
       "        [26, 27],\n",
       "        [28, 29]]])"
      ]
     },
     "execution_count": 37,
     "metadata": {},
     "output_type": "execute_result"
    }
   ],
   "source": [
    "some_matrix"
   ]
  },
  {
   "cell_type": "code",
   "execution_count": 42,
   "metadata": {
    "collapsed": false
   },
   "outputs": [
    {
     "data": {
      "text/plain": [
       "12"
      ]
     },
     "execution_count": 42,
     "metadata": {},
     "output_type": "execute_result"
    }
   ],
   "source": [
    "# I wanted something that would allow me to test this multi-indexing syntax\n",
    "some_matrix[1,1,0]"
   ]
  },
  {
   "cell_type": "code",
   "execution_count": 51,
   "metadata": {
    "collapsed": false
   },
   "outputs": [
    {
     "data": {
      "text/plain": [
       "array([[[20, 21],\n",
       "        [22, 23],\n",
       "        [24, 25],\n",
       "        [26, 27],\n",
       "        [28, 29]],\n",
       "\n",
       "       [[10, 11],\n",
       "        [12, 13],\n",
       "        [14, 15],\n",
       "        [16, 17],\n",
       "        [18, 19]],\n",
       "\n",
       "       [[ 0,  1],\n",
       "        [ 2,  3],\n",
       "        [ 4,  5],\n",
       "        [ 6,  7],\n",
       "        [ 8,  9]]])"
      ]
     },
     "execution_count": 51,
     "metadata": {},
     "output_type": "execute_result"
    }
   ],
   "source": [
    "# And this one. It looks like the \"gallop\", but I'm not sure at this level...\n",
    "some_matrix[::-1] # actually, it does reverse the stack of lists"
   ]
  },
  {
   "cell_type": "code",
   "execution_count": 52,
   "metadata": {
    "collapsed": false
   },
   "outputs": [
    {
     "data": {
      "text/plain": [
       "array([[[28, 29],\n",
       "        [26, 27],\n",
       "        [24, 25],\n",
       "        [22, 23],\n",
       "        [20, 21]],\n",
       "\n",
       "       [[18, 19],\n",
       "        [16, 17],\n",
       "        [14, 15],\n",
       "        [12, 13],\n",
       "        [10, 11]],\n",
       "\n",
       "       [[ 8,  9],\n",
       "        [ 6,  7],\n",
       "        [ 4,  5],\n",
       "        [ 2,  3],\n",
       "        [ 0,  1]]])"
      ]
     },
     "execution_count": 52,
     "metadata": {},
     "output_type": "execute_result"
    }
   ],
   "source": [
    "# reversing two levels of depth\n",
    "some_matrix[::-1, ::-1] # first the stacks, then the lists themselves"
   ]
  },
  {
   "cell_type": "code",
   "execution_count": null,
   "metadata": {
    "collapsed": true
   },
   "outputs": [],
   "source": [
    "reversed_view = some_matrix[::-1, ::-1]"
   ]
  },
  {
   "cell_type": "markdown",
   "metadata": {},
   "source": [
    "__So__ let's take a dot product of a (2 x 4) and a (4 x 2)!"
   ]
  },
  {
   "cell_type": "code",
   "execution_count": 57,
   "metadata": {
    "collapsed": false
   },
   "outputs": [
    {
     "data": {
      "text/plain": [
       "array([[18, 16, 14, 12, 10],\n",
       "       [19, 17, 15, 13, 11]])"
      ]
     },
     "execution_count": 57,
     "metadata": {},
     "output_type": "execute_result"
    }
   ],
   "source": [
    "reversed_view[1].T # I know about this because I read."
   ]
  },
  {
   "cell_type": "code",
   "execution_count": 58,
   "metadata": {
    "collapsed": false
   },
   "outputs": [
    {
     "data": {
      "text/plain": [
       "array([[0, 1],\n",
       "       [2, 3],\n",
       "       [4, 5],\n",
       "       [6, 7],\n",
       "       [8, 9]])"
      ]
     },
     "execution_count": 58,
     "metadata": {},
     "output_type": "execute_result"
    }
   ],
   "source": [
    "some_matrix[0]"
   ]
  },
  {
   "cell_type": "code",
   "execution_count": 60,
   "metadata": {
    "collapsed": false
   },
   "outputs": [
    {
     "data": {
      "text/plain": [
       "array([[240, 310],\n",
       "       [260, 335]])"
      ]
     },
     "execution_count": 60,
     "metadata": {},
     "output_type": "execute_result"
    }
   ],
   "source": [
    "reversed_view[1].T.dot(some_matrix[0])"
   ]
  },
  {
   "cell_type": "markdown",
   "metadata": {},
   "source": [
    "***For the record***: we should use `matmul` for basically everything that isn't 2-D, because the rules change (slightly) and we won't be able to rely on it as readily."
   ]
  },
  {
   "cell_type": "code",
   "execution_count": 61,
   "metadata": {
    "collapsed": false
   },
   "outputs": [
    {
     "data": {
      "text/plain": [
       "array([[240, 310],\n",
       "       [260, 335]])"
      ]
     },
     "execution_count": 61,
     "metadata": {},
     "output_type": "execute_result"
    }
   ],
   "source": [
    "np.matmul(reversed_view[1].T, some_matrix[0])"
   ]
  },
  {
   "cell_type": "markdown",
   "metadata": {},
   "source": [
    "---"
   ]
  },
  {
   "cell_type": "markdown",
   "metadata": {},
   "source": [
    "#### An idea\n",
    "Doing a transpose on a matrix would be a fast way to flip data, so writing to my matrices doesn't have to be wierd\n",
    "- It's probably poor form, but I am the guy who abstracted away 0-based indexing...\n",
    "\n",
    "Could also rearrange the order, so that the \"inner\" and \"outer\" pair are swapped...\n",
    "- Just food for thought"
   ]
  },
  {
   "cell_type": "markdown",
   "metadata": {},
   "source": [
    "---\n",
    "Resuming watching videos...\n",
    "\n",
    "---"
   ]
  },
  {
   "cell_type": "markdown",
   "metadata": {},
   "source": [
    "__The instructor__ makes a good point in data representation\n",
    "- If the rows represent a person and columns respresent a feature (i.e. height), then the transpose flips this\n",
    "  - It could be a hairy situation really quickly.\n",
    "- He just noted the \"idea\" I just stated.\n",
    "  - I'm a step ahead of this video ;)\n",
    "  - Showing a lot of ways to make the math work"
   ]
  },
  {
   "cell_type": "markdown",
   "metadata": {},
   "source": [
    "### When to break the rules\n",
    "> We've shown we can make the math work.\n",
    "- Now let's show we it __is__ and __isn't__ a good idea"
   ]
  },
  {
   "cell_type": "markdown",
   "metadata": {},
   "source": [
    "Let's take two example matrices (call them \"A\" and \"B\")\n",
    "\n",
    "\\begin{align}\n",
    "\\begin{vmatrix}\n",
    "1 & 3 \\\\\n",
    "5 & 7 \\\\\n",
    "9 & 11\n",
    "\\end{vmatrix}\n",
    "\\begin{vmatrix}\n",
    "0  & 2 \\\\\n",
    "4  & 6 \\\\\n",
    "8  & 10 \\\\\n",
    "12 & 14\n",
    "\\end{vmatrix}\n",
    "\\end{align}"
   ]
  },
  {
   "cell_type": "markdown",
   "metadata": {},
   "source": [
    "#### If both matrices are arranged in rows\n",
    "Either way is fine\n",
    "- Transpose B with matrix product for a resultant (3 x 4)\n",
    "- Swap positions, then transpose A for a resultant (4 x 3)\n",
    "  - Both results __are actually transposes__ of one another"
   ]
  },
  {
   "cell_type": "markdown",
   "metadata": {},
   "source": [
    "#### If both are arranged as columns\n",
    "__Neither__ option works, because we can't get features/persons (if we're using our old example)\n",
    "> Each dot product taken ends of combining values from every data item, rather than elements of related items (like we probably intended)."
   ]
  },
  {
   "cell_type": "markdown",
   "metadata": {},
   "source": [
    "#### What about other permutations?\n",
    "__Nope__.\n",
    "- Trying will just be an exercise in frustration.\n",
    "> You can safely use a transpose ina matrix multiplication IFF the data in both of your original matrices are arranged as rows\n",
    "- Be that __rows of *features*__ (i.e. *height* of a person), or __rows of '*owners of features*'__ (i.e. *person* \"owning\" their height)"
   ]
  },
  {
   "cell_type": "markdown",
   "metadata": {},
   "source": [
    "### Does this outlaw data as columns?\n",
    "Heck no!\n",
    "- Store data as it makes sense!\n",
    "  - Only transpose when you have to!\n",
    "- If you properly adapted your data, a lot of this problem goes away\n",
    "  - But, still, some things are unavoidable"
   ]
  },
  {
   "cell_type": "markdown",
   "metadata": {},
   "source": [
    "### A real-world use case\n",
    "Let's say we're making a Neural Network (I wonder why we would do that?)\n",
    "- We've got some `inputs` and `weights`"
   ]
  },
  {
   "cell_type": "code",
   "execution_count": 63,
   "metadata": {
    "collapsed": false
   },
   "outputs": [
    {
     "data": {
      "text/plain": [
       "array([[-0.27,  0.45,  0.64,  0.31]])"
      ]
     },
     "execution_count": 63,
     "metadata": {},
     "output_type": "execute_result"
    }
   ],
   "source": [
    "# notice this is really a vector, but it's in matrix form\n",
    "inputs = np.array([[-0.27,  0.45,  0.64, 0.31]])\n",
    "inputs"
   ]
  },
  {
   "cell_type": "code",
   "execution_count": 64,
   "metadata": {
    "collapsed": false
   },
   "outputs": [
    {
     "data": {
      "text/plain": [
       "(1, 4)"
      ]
     },
     "execution_count": 64,
     "metadata": {},
     "output_type": "execute_result"
    }
   ],
   "source": [
    "inputs.shape"
   ]
  },
  {
   "cell_type": "code",
   "execution_count": 66,
   "metadata": {
    "collapsed": false
   },
   "outputs": [
    {
     "data": {
      "text/plain": [
       "array([[ 0.02 ,  0.001, -0.03 ,  0.036],\n",
       "       [ 0.04 , -0.003,  0.025,  0.009],\n",
       "       [ 0.012, -0.045,  0.28 , -0.067]])"
      ]
     },
     "execution_count": 66,
     "metadata": {},
     "output_type": "execute_result"
    }
   ],
   "source": [
    "weights = np.array([[0.02, 0.001, -0.03, 0.036], \\\n",
    "    [0.04, -0.003, 0.025, 0.009], [0.012, -0.045, 0.28, -0.067]])\n",
    "weights"
   ]
  },
  {
   "cell_type": "code",
   "execution_count": 67,
   "metadata": {
    "collapsed": false
   },
   "outputs": [
    {
     "data": {
      "text/plain": [
       "(3, 4)"
      ]
     },
     "execution_count": 67,
     "metadata": {},
     "output_type": "execute_result"
    }
   ],
   "source": [
    "weights.shape"
   ]
  },
  {
   "cell_type": "markdown",
   "metadata": {},
   "source": [
    "__We can't__ immediately take the matrix product, because we have mismatched dimensions\n",
    "- The \"arranged by rows\" strategy works like a charm here."
   ]
  },
  {
   "cell_type": "code",
   "execution_count": 68,
   "metadata": {
    "collapsed": false
   },
   "outputs": [
    {
     "data": {
      "text/plain": [
       "array([[-0.01299],\n",
       "       [ 0.00664],\n",
       "       [ 0.13494]])"
      ]
     },
     "execution_count": 68,
     "metadata": {},
     "output_type": "execute_result"
    }
   ],
   "source": [
    "weights.dot(inputs.T) # same as np.matmul(weights, inputs.T)"
   ]
  },
  {
   "cell_type": "code",
   "execution_count": 69,
   "metadata": {
    "collapsed": false
   },
   "outputs": [
    {
     "data": {
      "text/plain": [
       "array([[-0.01299,  0.00664,  0.13494]])"
      ]
     },
     "execution_count": 69,
     "metadata": {},
     "output_type": "execute_result"
    }
   ],
   "source": [
    "inputs.dot(weights.T) # same as np.matmul(inputs, weights.T)"
   ]
  },
  {
   "cell_type": "markdown",
   "metadata": {},
   "source": [
    "__Since these are just__ transposes of one another...\n",
    "> It really just depends on the shape you want for your output.\n",
    "\n",
    "Ergo, make a choice and go!"
   ]
  },
  {
   "cell_type": "markdown",
   "metadata": {},
   "source": [
    "### Quiz Time!!!\n",
    "오후 9시 53분 (~1시 20분후에...)"
   ]
  },
  {
   "cell_type": "markdown",
   "metadata": {},
   "source": [
    "The quiz is a library tour of NumPy, in a nutshell\n",
    "- Exposure to:\n",
    "  - [ndarray.min](https://docs.scipy.org/doc/numpy/reference/generated/numpy.amin.html#numpy.amin), [ndarray.max](https://docs.scipy.org/doc/numpy/reference/generated/numpy.amax.html#numpy.amax), [ndarray.mean](https://docs.scipy.org/doc/numpy/reference/generated/numpy.mean.html#numpy.mean)\n",
    "  - Which (I think) really just alias\n",
    "    - [np.minimum](https://docs.scipy.org/doc/numpy/reference/generated/numpy.minimum.html#numpy.minimum)\n",
    "    - [np.maximum](https://docs.scipy.org/doc/numpy/reference/generated/numpy.maximum.html#numpy.maximum)"
   ]
  },
  {
   "cell_type": "code",
   "execution_count": 73,
   "metadata": {
    "collapsed": true
   },
   "outputs": [],
   "source": [
    "# Here's a decent test function\n",
    "def multiply_inputs(m1, m2):\n",
    "    # TODO: Check the shapes of the matrices m1 and m2. \n",
    "    #       m1 and m2 will be ndarray objects.\n",
    "    #\n",
    "    #       Return False if the shapes cannot be used for matrix\n",
    "    #       multiplication. You may not use a transpose\n",
    "\n",
    "    if (not (m1.shape[1] == m2.shape[0] or m1.shape[0] == m2.shape[1])):\n",
    "        return False\n",
    "\n",
    "\n",
    "    # TODO: If you have not returned False, then calculate the matrix product\n",
    "    #       of m1 and m2 and return it. Do not use a transpose,\n",
    "    #       but you swap their order if necessary\n",
    "    if (m1.shape[1] == m2.shape[0]):\n",
    "        return m1.dot(m2)\n",
    "    if (m1.shape[0] == m2.shape[1]):\n",
    "        return m2.dot(m1)"
   ]
  },
  {
   "cell_type": "markdown",
   "metadata": {},
   "source": [
    "# Next Stop: Intro to Neural Networks\n",
    "__오후 10시 25분 끝났다__"
   ]
  }
 ],
 "metadata": {
  "kernelspec": {
   "display_name": "Python 3",
   "language": "python",
   "name": "python3"
  },
  "language_info": {
   "codemirror_mode": {
    "name": "ipython",
    "version": 3
   },
   "file_extension": ".py",
   "mimetype": "text/x-python",
   "name": "python",
   "nbconvert_exporter": "python",
   "pygments_lexer": "ipython3",
   "version": "3.6.0"
  }
 },
 "nbformat": 4,
 "nbformat_minor": 2
}
