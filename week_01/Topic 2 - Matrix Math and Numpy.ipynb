{
 "cells": [
  {
   "cell_type": "markdown",
   "metadata": {},
   "source": [
    "It would seem that all the fly-by content will have its source materials expounded upon...\n",
    "\n",
    "This is a very good thing.\n",
    "\n",
    "---"
   ]
  },
  {
   "cell_type": "markdown",
   "metadata": {},
   "source": [
    "2016년 4월 16일\n",
    "\n",
    "**오후 4시 26분**\n",
    "\n",
    "Here's what I know (and believe) about NumPy:\n",
    "- It's a general purpose mathematics library\n",
    "- There are a plethora of functions and utilities around matrix calculations\n",
    "  - because everything can be respresented as a matrix/tensor\n",
    "  - This is actually **really** good for advancing my Mathematic skills\n",
    "    - Lots of higher maths are done with Matrices\n",
    "- There are immutable data structures\n",
    "  - Helps with speed\n",
    "- Big in the Data Analysis/Data Science/Big Data communities, because it makes doing the big math really simple.\n",
    "  - Sometimes, one library is just the fastest way to do something\n",
    "  - Less of a chore to do the math we all (fundamentally) understand\n",
    "\n",
    "... And that's about it."
   ]
  },
  {
   "cell_type": "markdown",
   "metadata": {},
   "source": [
    "---\n",
    "Took about 10 minutes to investigate the purchase of a Galaxy S8\n",
    "\n",
    "---\n",
    "**오후 4시 50분**"
   ]
  },
  {
   "cell_type": "markdown",
   "metadata": {},
   "source": [
    "# Data has Dimensions\n",
    "> Before we can start designing Neural Networks ourselves, we first need to understand how we represent that data\n",
    "More specifically, we need to think about the shapes that data can have\n",
    "\n",
    "Consider a person..."
   ]
  },
  {
   "cell_type": "markdown",
   "metadata": {},
   "source": [
    "- We could represent that person's height in centimeters as a *single* number.\n",
    "- Or we could have a list of numbers, representing the various features of that person\n",
    "  - Height, weight and age\n",
    "- Maybe we have an image of the person\n",
    "  - A grid of rows and columns\n",
    "  - Possibly represent those grid cells as a RGB (vector) of the color shown.\n",
    "\n",
    "Look at the depth of that data! All of which are described in dimensions.\n",
    "\n",
    "Once again, going through the dimensions:"
   ]
  },
  {
   "cell_type": "markdown",
   "metadata": {},
   "source": [
    "### Scalars\n",
    "Zero-dimensional shape.\n",
    "- A person's height is a *really* good example of this\n",
    "\n",
    "> It's kind of impossible to picture zero dimensions, but that's how it is most accurately defined."
   ]
  },
  {
   "cell_type": "markdown",
   "metadata": {},
   "source": [
    "### Vectors\n",
    "Lists of values.\n",
    "\n",
    "They come in two types: Row (horizontal) and Column (verticle)\n",
    "- Note that they can store the same data, it's just the math at your disposal that changes\n",
    "\n",
    "They have **one dimension**: length.\n",
    "\n",
    "> We could store a person's height, weight, and age all as a vector"
   ]
  },
  {
   "cell_type": "markdown",
   "metadata": {},
   "source": [
    "### Matrices\n",
    "Two-Dimensional grid of values\n",
    "\n",
    "\\begin{vmatrix}\n",
    "1 & 2 & 3 \\\\\n",
    "4 & 5 & 6\n",
    "\\end{vmatrix}\n",
    "\n",
    "> We see that this has two **rows** and three **columns**, so we'll call this a \"two-by-three\" matrix\n",
    "- Notated: `2 x 3`\n",
    "\n",
    "If you had a single number for each pixel of an image (\"Bitmap \\*cough cough\\*), you could store those as a matrix :)"
   ]
  },
  {
   "cell_type": "markdown",
   "metadata": {},
   "source": [
    "### Tensors\n",
    "N-Dimensional collection of values\n",
    "- Garrett found a brilliant way to visualize data in 13 dimensions\n",
    "\n",
    "The aforementioned Scalar, Vector, and Matrix groups are \\_-dimension of tensor\n",
    "- Scalar is a 0-D Tensor\n",
    "- Vector is a 1-D Tensor\n",
    "- Matrix is a 2-D Tensor\n",
    "\n",
    "Higher dimensional data is tough to visualize. For example:\n",
    "- For three dimensions, one might picture\n",
    "  - A stack of matrices (i.e. stack of punch cards for a program)\n",
    "  - A list of matrices (i.e. lens of a pair of glasses. Or [techie] a sequence of filters)\n",
    "  - A matrix of vectors (i.e. an array-of-arrays.)\n",
    "    - Easiest to get into code in most C-family languages\n",
    "\n",
    "Sounds like fun, doesn't it? :D"
   ]
  },
  {
   "cell_type": "markdown",
   "metadata": {},
   "source": [
    "What about 4-D?\n",
    "- We could have a matrix of matrices, because `2 x 2 = 4` dimensions\n",
    "- Or it could be a list of lists or stack of stacks of matrices\n",
    "  - Again, the compounding here"
   ]
  },
  {
   "cell_type": "markdown",
   "metadata": {},
   "source": [
    "***The point is***:\n",
    "> Even if you have a hard time imagining how the data is arranged, you can probably still make the math work.\n",
    "\n",
    "---\n",
    "Back to an image, with RGB channels.\n",
    "- Would could store that data three-dimensionally\n",
    "  - A stack of matrices: one for each color channel"
   ]
  },
  {
   "cell_type": "markdown",
   "metadata": {},
   "source": [
    "For these lessons...\n",
    "- We'll mostly consider [Scalars](./Topic%202%20-%20Matrix%20Math%20and%20Numpy.ipynb#Scalars) and [Matrices](./Topic%202%20-%20Matrix%20Math%20and%20Numpy.ipynb#Matrices)\n",
    "  - Vectors will just be a Matrix, where one of their dimensions is `1`\n",
    "\n",
    "Values will be referenced by their two-dimensional indices $lowerCaseMatrixName_{<row><column>}$\n",
    "\n",
    "$$\n",
    "\\begin{vmatrix}\n",
    "1 & 2 & 3 \\\\\n",
    "4 & 5 & 6 \\\\\n",
    "7 & 8 & 9\n",
    "\\end{vmatrix}\n",
    "\\begin{vmatrix}\n",
    "a_{11} & a_{12} & a_{13} \\\\\n",
    "a_{21} & a_{22} & a_{23} \\\\\n",
    "a_{31} & a_{32} & a_{33}\n",
    "\\end{vmatrix}\n",
    "$$\n",
    "- Therefore, value `8` is index `32` in linear algebra"
   ]
  },
  {
   "cell_type": "markdown",
   "metadata": {},
   "source": [
    "# Working with Data in NumPy"
   ]
  },
  {
   "cell_type": "markdown",
   "metadata": {},
   "source": [
    "---\n",
    "The [NumPy Reference Documentation](https://docs.scipy.org/doc/numpy/reference/)\n",
    "- Was actually written in C, so that is can be more performant that Python\n",
    "  - This is a perfectly legitimate reason to lean on a library for something.\n",
    "  - I'm pleased to know that it's not due to laziness in implementation\n",
    "- Most work is indeed done through matrices, as [`ndarray`](https://docs.scipy.org/doc/numpy/reference/arrays.html) instances\n",
    "\n",
    "---"
   ]
  },
  {
   "cell_type": "markdown",
   "metadata": {},
   "source": [
    "## NumPy Data Types\n",
    "That we'll be using.\n",
    "It's the Big Four, as previously mentioned (in Siraj's video)"
   ]
  },
  {
   "cell_type": "markdown",
   "metadata": {},
   "source": [
    "### NumPy Scalars\n",
    "- Created with `numpy.array`, and you pass a number (Python int or float)\n",
    "- Can be of type `int` or `uint` 8-64"
   ]
  },
  {
   "cell_type": "code",
   "execution_count": 18,
   "metadata": {
    "collapsed": true
   },
   "outputs": [],
   "source": [
    "import numpy as np"
   ]
  },
  {
   "cell_type": "code",
   "execution_count": 19,
   "metadata": {
    "collapsed": true
   },
   "outputs": [],
   "source": [
    "scal = np.array(5)"
   ]
  },
  {
   "cell_type": "code",
   "execution_count": 20,
   "metadata": {
    "collapsed": false
   },
   "outputs": [
    {
     "name": "stdout",
     "output_type": "stream",
     "text": [
      "5\n"
     ]
    }
   ],
   "source": [
    "print(scal)"
   ]
  },
  {
   "cell_type": "markdown",
   "metadata": {},
   "source": [
    "- Exposes the relevant property `shape`"
   ]
  },
  {
   "cell_type": "code",
   "execution_count": 21,
   "metadata": {
    "collapsed": false
   },
   "outputs": [
    {
     "name": "stdout",
     "output_type": "stream",
     "text": [
      "()\n"
     ]
    }
   ],
   "source": [
    "print(scal.shape)"
   ]
  },
  {
   "cell_type": "markdown",
   "metadata": {},
   "source": [
    "- Returns an empty tuple, representing its **0-D nature**\n",
    "  - Coming full circle\n",
    "- Can still do basic operations (`+`, `*`, etc.) against other Python types."
   ]
  },
  {
   "cell_type": "code",
   "execution_count": 22,
   "metadata": {
    "collapsed": false
   },
   "outputs": [
    {
     "name": "stdout",
     "output_type": "stream",
     "text": [
      "15\n"
     ]
    }
   ],
   "source": [
    "print(scal + 10)"
   ]
  },
  {
   "cell_type": "markdown",
   "metadata": {},
   "source": [
    "### NumPy Vectors and Matrices\n",
    "- All that was true about Scalars maps to these as well"
   ]
  },
  {
   "cell_type": "code",
   "execution_count": 23,
   "metadata": {
    "collapsed": true
   },
   "outputs": [],
   "source": [
    "vect = np.array([1, 2, 3, 4])"
   ]
  },
  {
   "cell_type": "markdown",
   "metadata": {},
   "source": [
    "- Also support slices (i.e. `arr[1:]`)\n",
    "  - See [the documentation](https://docs.scipy.org/doc/numpy/reference/arrays.indexing.html) for more, but it's pretty straightforward"
   ]
  },
  {
   "cell_type": "code",
   "execution_count": 24,
   "metadata": {
    "collapsed": false
   },
   "outputs": [
    {
     "name": "stdout",
     "output_type": "stream",
     "text": [
      "[1 2 3 4]\n"
     ]
    }
   ],
   "source": [
    "print(vect)"
   ]
  },
  {
   "cell_type": "code",
   "execution_count": 25,
   "metadata": {
    "collapsed": false
   },
   "outputs": [
    {
     "name": "stdout",
     "output_type": "stream",
     "text": [
      "(4,)\n"
     ]
    }
   ],
   "source": [
    "print(vect.shape)"
   ]
  },
  {
   "cell_type": "code",
   "execution_count": 26,
   "metadata": {
    "collapsed": false
   },
   "outputs": [
    {
     "name": "stdout",
     "output_type": "stream",
     "text": [
      "[3 4]\n"
     ]
    }
   ],
   "source": [
    "print(vect[2:])"
   ]
  },
  {
   "cell_type": "markdown",
   "metadata": {},
   "source": [
    "#### NumPy Matrices\n",
    "- As stated, we'll do this programmatically as an array-of-arrays"
   ]
  },
  {
   "cell_type": "code",
   "execution_count": 27,
   "metadata": {
    "collapsed": false
   },
   "outputs": [
    {
     "name": "stdout",
     "output_type": "stream",
     "text": [
      "[[1 2 3]\n",
      " [4 5 6]\n",
      " [7 8 9]]\n"
     ]
    }
   ],
   "source": [
    "matrx = np.array([[1, 2, 3], [4, 5, 6], [7, 8, 9]])\n",
    "print(matrx)"
   ]
  },
  {
   "cell_type": "code",
   "execution_count": 34,
   "metadata": {
    "collapsed": false
   },
   "outputs": [
    {
     "data": {
      "text/plain": [
       "(3, 3)"
      ]
     },
     "execution_count": 34,
     "metadata": {},
     "output_type": "execute_result"
    }
   ],
   "source": [
    "matrx.shape"
   ]
  },
  {
   "cell_type": "code",
   "execution_count": 35,
   "metadata": {
    "collapsed": false
   },
   "outputs": [
    {
     "data": {
      "text/plain": [
       "array([[4, 5, 6],\n",
       "       [7, 8, 9]])"
      ]
     },
     "execution_count": 35,
     "metadata": {},
     "output_type": "execute_result"
    }
   ],
   "source": [
    "matrx[1:]"
   ]
  },
  {
   "cell_type": "code",
   "execution_count": 36,
   "metadata": {
    "collapsed": false
   },
   "outputs": [
    {
     "data": {
      "text/plain": [
       "array([4, 5, 6])"
      ]
     },
     "execution_count": 36,
     "metadata": {},
     "output_type": "execute_result"
    }
   ],
   "source": [
    "matrx[1:][0]"
   ]
  },
  {
   "cell_type": "code",
   "execution_count": 37,
   "metadata": {
    "collapsed": false
   },
   "outputs": [
    {
     "data": {
      "text/plain": [
       "9"
      ]
     },
     "execution_count": 37,
     "metadata": {},
     "output_type": "execute_result"
    }
   ],
   "source": [
    "# Give us an array of our last-row-array, and print the last element\n",
    "matrx[2:][0][-1]"
   ]
  },
  {
   "cell_type": "markdown",
   "metadata": {},
   "source": [
    "### That's really nice, but..."
   ]
  },
  {
   "cell_type": "code",
   "execution_count": 33,
   "metadata": {
    "collapsed": false
   },
   "outputs": [
    {
     "data": {
      "text/plain": [
       "array([1, 2, 3, 4])"
      ]
     },
     "execution_count": 33,
     "metadata": {},
     "output_type": "execute_result"
    }
   ],
   "source": [
    "# what if we need a different shape to the data?\n",
    "# Recall our vector\n",
    "vect"
   ]
  },
  {
   "cell_type": "code",
   "execution_count": 38,
   "metadata": {
    "collapsed": false
   },
   "outputs": [
    {
     "data": {
      "text/plain": [
       "array([[1],\n",
       "       [2],\n",
       "       [3],\n",
       "       [4]])"
      ]
     },
     "execution_count": 38,
     "metadata": {},
     "output_type": "execute_result"
    }
   ],
   "source": [
    "vect.reshape((4, 1))"
   ]
  },
  {
   "cell_type": "code",
   "execution_count": 39,
   "metadata": {
    "collapsed": false
   },
   "outputs": [
    {
     "data": {
      "text/plain": [
       "array([1, 2, 3, 4])"
      ]
     },
     "execution_count": 39,
     "metadata": {},
     "output_type": "execute_result"
    }
   ],
   "source": [
    "vect"
   ]
  },
  {
   "cell_type": "code",
   "execution_count": 40,
   "metadata": {
    "collapsed": false
   },
   "outputs": [
    {
     "data": {
      "text/plain": [
       "array([[1, 2, 3, 4]])"
      ]
     },
     "execution_count": 40,
     "metadata": {},
     "output_type": "execute_result"
    }
   ],
   "source": [
    "vect.reshape((1,4))"
   ]
  },
  {
   "cell_type": "markdown",
   "metadata": {},
   "source": [
    "So we can give our data extra dimensionality if needed\n",
    "> But we can go deeper, and follow the experts in the community"
   ]
  },
  {
   "cell_type": "code",
   "execution_count": 41,
   "metadata": {
    "collapsed": false
   },
   "outputs": [
    {
     "data": {
      "text/plain": [
       "array([[1, 2, 3, 4]])"
      ]
     },
     "execution_count": 41,
     "metadata": {},
     "output_type": "execute_result"
    }
   ],
   "source": [
    "vect[None, :] # NumPy, can you give me a new dimension of size '1' for Y-axis?"
   ]
  },
  {
   "cell_type": "code",
   "execution_count": 42,
   "metadata": {
    "collapsed": false
   },
   "outputs": [
    {
     "data": {
      "text/plain": [
       "array([[1],\n",
       "       [2],\n",
       "       [3],\n",
       "       [4]])"
      ]
     },
     "execution_count": 42,
     "metadata": {},
     "output_type": "execute_result"
    }
   ],
   "source": [
    "vect[:, None] # How about that X-axis, while we're at it?"
   ]
  },
  {
   "cell_type": "markdown",
   "metadata": {},
   "source": [
    "**This reshaping logic** is a lot less literal, and will work on more general data\n",
    "- May not be the thing we want every time, but it's very popular to use this technique"
   ]
  },
  {
   "cell_type": "markdown",
   "metadata": {},
   "source": [
    "---\n",
    "I'm suspecting that I won't write a lot for the upcoming sections, so I'm just going to grab loose thoughts and organize them afterwards (ergo \"oh this was all stuff about matrix multiplication...\")"
   ]
  },
  {
   "cell_type": "markdown",
   "metadata": {},
   "source": [
    "- Scalar (+,-,\\*,/) matrix performs the operation against every element of the scalar to produce a result"
   ]
  },
  {
   "cell_type": "code",
   "execution_count": 43,
   "metadata": {
    "collapsed": false
   },
   "outputs": [
    {
     "data": {
      "text/plain": [
       "array([2, 4, 6, 8])"
      ]
     },
     "execution_count": 43,
     "metadata": {},
     "output_type": "execute_result"
    }
   ],
   "source": [
    "2 * vect"
   ]
  },
  {
   "cell_type": "markdown",
   "metadata": {},
   "source": [
    "- Thinking back to an RGB tensor, we could **normalize** our channels by dividing the matrix by 255\n",
    "  - 256 points including 0, but we try not to divide by zero ;)\n",
    "- What if we made every element of our matrix a fraction, instead?"
   ]
  },
  {
   "cell_type": "code",
   "execution_count": 45,
   "metadata": {
    "collapsed": true
   },
   "outputs": [],
   "source": [
    "from fractions import Fraction"
   ]
  },
  {
   "cell_type": "code",
   "execution_count": 47,
   "metadata": {
    "collapsed": false
   },
   "outputs": [
    {
     "data": {
      "text/plain": [
       "[Fraction(1, 8), Fraction(1, 4), Fraction(3, 8), Fraction(1, 2)]"
      ]
     },
     "execution_count": 47,
     "metadata": {},
     "output_type": "execute_result"
    }
   ],
   "source": [
    "list(map(lambda x: Fraction(x, 8), vect)) # deal with all the data in terms of 8ths"
   ]
  },
  {
   "cell_type": "markdown",
   "metadata": {},
   "source": [
    "- Matrix element-wise math (i.e. addition and subtraction) requires matching dimensions"
   ]
  },
  {
   "cell_type": "code",
   "execution_count": 48,
   "metadata": {
    "collapsed": false
   },
   "outputs": [
    {
     "data": {
      "text/plain": [
       "array([ 7,  9, 11, 13])"
      ]
     },
     "execution_count": 48,
     "metadata": {},
     "output_type": "execute_result"
    }
   ],
   "source": [
    "other_vect = np.array([6, 7, 8, 9])\n",
    "vect + other_vect"
   ]
  },
  {
   "cell_type": "code",
   "execution_count": 49,
   "metadata": {
    "collapsed": false
   },
   "outputs": [
    {
     "data": {
      "text/plain": [
       "array([5, 5, 5, 5])"
      ]
     },
     "execution_count": 49,
     "metadata": {},
     "output_type": "execute_result"
    }
   ],
   "source": [
    "other_vect - vect"
   ]
  },
  {
   "cell_type": "code",
   "execution_count": null,
   "metadata": {
    "collapsed": true
   },
   "outputs": [],
   "source": []
  }
 ],
 "metadata": {
  "kernelspec": {
   "display_name": "Python 3",
   "language": "python",
   "name": "python3"
  },
  "language_info": {
   "codemirror_mode": {
    "name": "ipython",
    "version": 3
   },
   "file_extension": ".py",
   "mimetype": "text/x-python",
   "name": "python",
   "nbconvert_exporter": "python",
   "pygments_lexer": "ipython3",
   "version": "3.6.0"
  }
 },
 "nbformat": 4,
 "nbformat_minor": 2
}
