{
 "cells": [
  {
   "cell_type": "markdown",
   "metadata": {},
   "source": [
    "## Logistic Regression"
   ]
  },
  {
   "cell_type": "markdown",
   "metadata": {},
   "source": [
    "Using an example very similar to that of the \"Intro to Machine Learning\" lesson that covers *data surfaces*, we learn this process of determining whether a point *passes* or *fails* a tast (based on historics) is __Logistic Regression__"
   ]
  },
  {
   "cell_type": "markdown",
   "metadata": {},
   "source": [
    "- The example (with the similar data surface) is of student grades and entrance test scores, colored for acceptance\n",
    "  - green dots on the right hand of the D.S. are (supposedly) accepted\n",
    "  - red dots on the left hand are subsequently rejected"
   ]
  },
  {
   "cell_type": "markdown",
   "metadata": {},
   "source": [
    "Another way to think about this is: \"how easily can we separate the data?\" (with a line)\n",
    "- In this lesson, we'll gradually reduce our losses via __gradient decent__\n",
    "  - The *log-loss function* will have an output whose error we want to minimize"
   ]
  },
  {
   "cell_type": "markdown",
   "metadata": {},
   "source": [
    "Answer this question:\n",
    "  - In which direction can we rotate (or move) the line for the maximum error reduction?"
   ]
  },
  {
   "cell_type": "markdown",
   "metadata": {},
   "source": [
    "# Neural Networks"
   ]
  },
  {
   "cell_type": "markdown",
   "metadata": {},
   "source": [
    "> It looks like we're proposing too many acceptances, because some of these students have low grades with good test scores...\n",
    "\n",
    "> Hmmmm.\n",
    "\n",
    "> Maybe a cirle?\n",
    "\n",
    "> How about two lines? Yes, __let's use two lines__"
   ]
  },
  {
   "cell_type": "markdown",
   "metadata": {},
   "source": [
    "But how do we find the two lines?\n",
    "- Gradient descent still does the job.\n",
    "- We'll calculate against the log-loss function, looking for two different positions"
   ]
  },
  {
   "cell_type": "markdown",
   "metadata": {},
   "source": [
    "## This is a neural network\n",
    "1. Is this point over the horizontal line?\n",
    "2. Is this point over the vertical line?\n",
    "3. Are the answers to both 1 and 2 yes?\n",
    "  - This yields only a single \"yes\"\n"
   ]
  },
  {
   "cell_type": "markdown",
   "metadata": {},
   "source": [
    "---"
   ]
  },
  {
   "cell_type": "markdown",
   "metadata": {},
   "source": [
    "This feels like the makings of a perceptron...\n",
    "- Doing bare-bones, basic boolean ANDs\n",
    "\n",
    "I'm wondering how we translate this truth-table-like problem into a system of nodes"
   ]
  },
  {
   "cell_type": "markdown",
   "metadata": {},
   "source": [
    "---"
   ]
  },
  {
   "cell_type": "markdown",
   "metadata": {},
   "source": [
    "And then teach breaks it down for us ;)\n",
    "> Let's graph each question as a small node"
   ]
  },
  {
   "cell_type": "markdown",
   "metadata": {},
   "source": [
    "### A breakdown\n",
    "(To better form an intuition?)"
   ]
  },
  {
   "cell_type": "markdown",
   "metadata": {},
   "source": [
    "1. Is the point over the horizontal line?\n",
    "    - And two input nodes: test score and grades\n",
    "    - We can plot this like coordinate pair\n",
    "    - Outputs a Boolean\n",
    "2. Is the point over the vertical line?\n",
    "    - Ouputs a Boolean to answer the question\n",
    "3. Add a node (the __output node__), one layer \"in\"?\n",
    "    - This node receives the previous two inputs and logical ANDs them together\n",
    "    - Ouputs the result of that boolean addition(?)"
   ]
  },
  {
   "cell_type": "markdown",
   "metadata": {},
   "source": [
    "---\n",
    "But __how__ is this a neural network?\n",
    "\n",
    "Well just look at the layers like this:\n",
    "\n",
    "\\begin{equation}\n",
    "\\begin{vmatrix}\n",
    "Test: & 1 \\\\\n",
    "Grade: & 8\n",
    "\\end{vmatrix} {_{->}^{->}}\n",
    "\\begin{vmatrix}\n",
    "horizLineTestNode \\\\\n",
    "vertLineTestNode\n",
    "\\end{vmatrix} {_{->}^{->}}\n",
    "\\begin{vmatrix}\n",
    "AND\n",
    "\\end{vmatrix} ->\n",
    "Output\n",
    "\\end{equation}"
   ]
  },
  {
   "cell_type": "markdown",
   "metadata": {},
   "source": [
    "- picture the *test* and *grade* flowing into both test nodes (four arrows instead of two)\n",
    "- That's the general idea\n",
    "  - Data flows left-to-right\n",
    "  - Remember: a given neuron takes, as input, the output of other neurons\n",
    "    - We use numbers at this level\n",
    "    - But soon, we'll do so much more"
   ]
  },
  {
   "cell_type": "markdown",
   "metadata": {},
   "source": [
    "I really don't want to type out a truth table, or a binary grid\n",
    "  - Please just remember this\n",
    "  - Or just review [this](http://kias.dyndns.org/comath/21.html)"
   ]
  },
  {
   "cell_type": "markdown",
   "metadata": {},
   "source": [
    "# Perceptron"
   ]
  },
  {
   "cell_type": "markdown",
   "metadata": {},
   "source": [
    "---\n",
    "Vocabulary:\n",
    "  - __Perceptrons__, or neurons, are individual nodes in an interconnected network\n",
    "    - They are the basic unit of neural networks\n",
    "    - Function: *Look at input data and decide how to categorize said data*\n",
    "\n",
    "---"
   ]
  },
  {
   "cell_type": "markdown",
   "metadata": {},
   "source": [
    "With the previous example of school acceptance\n",
    "- inputs either passed the threshold for grades and test scores, or didn't\n",
    "- The outputs - \"yes\" and \"no\" - were the __categories__\n",
    "\n",
    "Those categories then combine to produce a decision!\n",
    "- Back example land, whether or not the student is granted admission."
   ]
  },
  {
   "cell_type": "markdown",
   "metadata": {},
   "source": [
    "---\n",
    "But wait a second....\n",
    "\n",
    "How the heck do these nodes know whats important in checking that threshold?\n",
    "> When initialized, we don't know what information will be most important.\n",
    "\n",
    "> So... We have the network __learn for itself__. And even let it adjust how it considers the data.\n",
    "\n",
    "All of this is done with a little something called..."
   ]
  },
  {
   "cell_type": "markdown",
   "metadata": {},
   "source": [
    "## Weights"
   ]
  },
  {
   "cell_type": "markdown",
   "metadata": {},
   "source": [
    "---\n",
    "My turn.\n",
    "\n",
    "Perceptrons (aka \"neurons\", \"nodes\") have weights for all the inputs that they receive\n",
    "- Think of this like a person who values certain peoples' opinions more than others\n",
    "\n",
    "Based on the inputs (and associated weights), an output can be determined.\n",
    "- And since neurons will only be connected to a set number of other neurons, it is safe to have a fixed number of weights!\n",
    "  - It all makes sense in my brain.\n",
    "  - Let's see how the course explains it.\n",
    "\n",
    "---"
   ]
  },
  {
   "cell_type": "markdown",
   "metadata": {},
   "source": [
    "> When input data is received, it get multiplied by a weight that is assigned to this particular input.\n",
    "- If we have our example of school acceptance\n",
    "  - `tests` could be an input name for test scores\n",
    "  - `grades` could be an input name for the student's average grades"
   ]
  },
  {
   "cell_type": "markdown",
   "metadata": {},
   "source": [
    "---\n",
    "Pretty much what I said, with a different tone of voice, and vocabulary.\n",
    "\n",
    "---"
   ]
  },
  {
   "cell_type": "markdown",
   "metadata": {},
   "source": [
    "__Note__ that neuron's given weight for some input starts out random (adding up to 1.00?)\n",
    "- Overtime, as the neural network learns more about the kind of input data that leads to student acceptance\n",
    "  - The network adjusts weights based on erors in categorization (from previous results)\n",
    "  - This is called __training__\n",
    "\n",
    "---"
   ]
  },
  {
   "cell_type": "markdown",
   "metadata": {},
   "source": [
    "Vocabulary:\n",
    "  - __training__: The process of improving a network's individual node-level weights, to produce the desired output"
   ]
  },
  {
   "cell_type": "code",
   "execution_count": null,
   "metadata": {
    "collapsed": true
   },
   "outputs": [],
   "source": []
  },
  {
   "cell_type": "markdown",
   "metadata": {},
   "source": []
  }
 ],
 "metadata": {
  "kernelspec": {
   "display_name": "Python 3",
   "language": "python",
   "name": "python3"
  },
  "language_info": {
   "codemirror_mode": {
    "name": "ipython",
    "version": 3
   },
   "file_extension": ".py",
   "mimetype": "text/x-python",
   "name": "python",
   "nbconvert_exporter": "python",
   "pygments_lexer": "ipython3",
   "version": "3.6.0"
  }
 },
 "nbformat": 4,
 "nbformat_minor": 2
}
